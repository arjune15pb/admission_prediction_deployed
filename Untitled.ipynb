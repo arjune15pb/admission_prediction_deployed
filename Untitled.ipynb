{
 "cells": [
  {
   "cell_type": "code",
   "execution_count": 13,
   "metadata": {},
   "outputs": [
    {
     "name": "stdout",
     "output_type": "stream",
     "text": [
      "Requirement already satisfied: certifi==2019.11.28 in c:\\users\\karna\\anaconda3\\lib\\site-packages (from -r requirements.txt (line 1)) (2019.11.28)\n",
      "Requirement already satisfied: Click==7.0 in c:\\users\\karna\\anaconda3\\lib\\site-packages (from -r requirements.txt (line 2)) (7.0)\n",
      "Requirement already satisfied: Flask==1.1.1 in c:\\users\\karna\\anaconda3\\lib\\site-packages (from -r requirements.txt (line 3)) (1.1.1)\n",
      "Requirement already satisfied: Flask-Cors==3.0.8 in c:\\users\\karna\\anaconda3\\lib\\site-packages (from -r requirements.txt (line 4)) (3.0.8)\n",
      "Requirement already satisfied: gunicorn==20.0.4 in c:\\users\\karna\\anaconda3\\lib\\site-packages (from -r requirements.txt (line 5)) (20.0.4)\n",
      "Requirement already satisfied: itsdangerous==1.1.0 in c:\\users\\karna\\anaconda3\\lib\\site-packages (from -r requirements.txt (line 6)) (1.1.0)\n",
      "Collecting Jinja2==2.10.3\n",
      "  Using cached Jinja2-2.10.3-py2.py3-none-any.whl (125 kB)\n",
      "Collecting joblib==0.14.0\n",
      "  Using cached joblib-0.14.0-py2.py3-none-any.whl (294 kB)\n",
      "Requirement already satisfied: MarkupSafe==1.1.1 in c:\\users\\karna\\anaconda3\\lib\\site-packages (from -r requirements.txt (line 9)) (1.1.1)\n",
      "Collecting numpy==1.17.4\n",
      "  Using cached numpy-1.17.4-cp37-cp37m-win_amd64.whl (12.7 MB)\n",
      "Collecting scikit-learn==0.21.3\n",
      "  Using cached scikit_learn-0.21.3-cp37-cp37m-win_amd64.whl (5.9 MB)\n",
      "Collecting scipy==1.3.2\n",
      "  Using cached scipy-1.3.2-cp37-cp37m-win_amd64.whl (30.5 MB)\n",
      "Collecting six==1.13.0\n",
      "  Using cached six-1.13.0-py2.py3-none-any.whl (10 kB)\n",
      "Requirement already satisfied: Werkzeug==0.16.0 in c:\\users\\karna\\anaconda3\\lib\\site-packages (from -r requirements.txt (line 14)) (0.16.0)\n",
      "Requirement already satisfied: setuptools>=3.0 in c:\\users\\karna\\anaconda3\\lib\\site-packages (from gunicorn==20.0.4->-r requirements.txt (line 5)) (45.2.0.post20200210)\n",
      "Installing collected packages: Jinja2, joblib, numpy, scipy, scikit-learn, six\n",
      "  Attempting uninstall: Jinja2\n",
      "    Found existing installation: Jinja2 3.0.1\n",
      "    Uninstalling Jinja2-3.0.1:\n",
      "      Successfully uninstalled Jinja2-3.0.1\n",
      "  Attempting uninstall: joblib\n",
      "    Found existing installation: joblib 1.0.1\n",
      "    Uninstalling joblib-1.0.1:\n",
      "      Successfully uninstalled joblib-1.0.1\n",
      "  Attempting uninstall: numpy\n",
      "    Found existing installation: numpy 1.18.1\n",
      "    Uninstalling numpy-1.18.1:\n",
      "      Successfully uninstalled numpy-1.18.1\n",
      "  Attempting uninstall: scipy\n",
      "    Found existing installation: scipy 1.7.0\n",
      "    Uninstalling scipy-1.7.0:\n",
      "      Successfully uninstalled scipy-1.7.0\n",
      "  Attempting uninstall: scikit-learn\n",
      "    Found existing installation: scikit-learn 0.24.2\n",
      "    Uninstalling scikit-learn-0.24.2:\n",
      "      Successfully uninstalled scikit-learn-0.24.2\n",
      "  Attempting uninstall: six\n",
      "    Found existing installation: six 1.14.0\n",
      "    Uninstalling six-1.14.0:\n",
      "      Successfully uninstalled six-1.14.0\n",
      "Successfully installed Jinja2-2.10.3 joblib-0.14.0 numpy-1.17.4 scikit-learn-0.21.3 scipy-1.3.2 six-1.13.0\n",
      "Note: you may need to restart the kernel to use updated packages.\n"
     ]
    },
    {
     "name": "stderr",
     "output_type": "stream",
     "text": [
      "ERROR: phik 0.12.0 has requirement joblib>=0.14.1, but you'll have joblib 0.14.0 which is incompatible.\n",
      "ERROR: phik 0.12.0 has requirement numpy>=1.18.0, but you'll have numpy 1.17.4 which is incompatible.\n",
      "ERROR: phik 0.12.0 has requirement scipy>=1.5.2, but you'll have scipy 1.3.2 which is incompatible.\n",
      "ERROR: pandas-profiling 3.1.0 has requirement jinja2>=2.11.1, but you'll have jinja2 2.10.3 which is incompatible.\n",
      "ERROR: pandas-profiling 3.1.0 has requirement joblib~=1.0.1, but you'll have joblib 0.14.0 which is incompatible.\n",
      "ERROR: pandas-profiling 3.1.0 has requirement markupsafe~=2.0.1, but you'll have markupsafe 1.1.1 which is incompatible.\n",
      "ERROR: pandas-profiling 3.1.0 has requirement scipy>=1.4.1, but you'll have scipy 1.3.2 which is incompatible.\n",
      "ERROR: imbalanced-learn 0.8.0 has requirement scikit-learn>=0.24, but you'll have scikit-learn 0.21.3 which is incompatible.\n"
     ]
    }
   ],
   "source": [
    "pip install -r requirements.txt"
   ]
  },
  {
   "cell_type": "code",
   "execution_count": null,
   "metadata": {},
   "outputs": [
    {
     "name": "stdout",
     "output_type": "stream",
     "text": [
      " * Serving Flask app \"app\" (lazy loading)\n",
      " * Environment: production\n",
      "   WARNING: This is a development server. Do not use it in a production deployment.\n",
      "   Use a production WSGI server instead.\n",
      " * Debug mode: on\n"
     ]
    },
    {
     "name": "stderr",
     "output_type": "stream",
     "text": [
      " * Restarting with windowsapi reloader\n"
     ]
    }
   ],
   "source": [
    "run app.py"
   ]
  },
  {
   "cell_type": "code",
   "execution_count": null,
   "metadata": {},
   "outputs": [],
   "source": []
  },
  {
   "cell_type": "code",
   "execution_count": null,
   "metadata": {},
   "outputs": [],
   "source": []
  },
  {
   "cell_type": "code",
   "execution_count": null,
   "metadata": {},
   "outputs": [],
   "source": []
  }
 ],
 "metadata": {
  "kernelspec": {
   "display_name": "Python 3",
   "language": "python",
   "name": "python3"
  },
  "language_info": {
   "codemirror_mode": {
    "name": "ipython",
    "version": 3
   },
   "file_extension": ".py",
   "mimetype": "text/x-python",
   "name": "python",
   "nbconvert_exporter": "python",
   "pygments_lexer": "ipython3",
   "version": "3.7.6"
  }
 },
 "nbformat": 4,
 "nbformat_minor": 4
}
